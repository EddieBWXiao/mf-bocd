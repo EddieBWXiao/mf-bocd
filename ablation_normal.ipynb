{
 "cells": [
  {
   "cell_type": "code",
   "execution_count": 1,
   "metadata": {},
   "outputs": [
    {
     "ename": "ImportError",
     "evalue": "cannot import name 'MfNormal' from 'mfbocd.models' (/Users/gwg/Desktop/mfbocd/mfbocd/models/__init__.py)",
     "output_type": "error",
     "traceback": [
      "\u001b[0;31m---------------------------------------------------------------------------\u001b[0m",
      "\u001b[0;31mImportError\u001b[0m                               Traceback (most recent call last)",
      "\u001b[0;32m<ipython-input-1-82eb4bad00fe>\u001b[0m in \u001b[0;36m<module>\u001b[0;34m\u001b[0m\n\u001b[1;32m      6\u001b[0m from   mfbocd.inference import (bocd,\n\u001b[1;32m      7\u001b[0m                                 mf_bocd)\n\u001b[0;32m----> 8\u001b[0;31m \u001b[0;32mfrom\u001b[0m   \u001b[0mmfbocd\u001b[0m\u001b[0;34m.\u001b[0m\u001b[0mmodels\u001b[0m \u001b[0;32mimport\u001b[0m \u001b[0mMfNormal\u001b[0m\u001b[0;34m\u001b[0m\u001b[0;34m\u001b[0m\u001b[0m\n\u001b[0m\u001b[1;32m      9\u001b[0m \u001b[0;34m\u001b[0m\u001b[0m\n\u001b[1;32m     10\u001b[0m \u001b[0mcolor_lf\u001b[0m \u001b[0;34m=\u001b[0m \u001b[0;34m'#e6550d'\u001b[0m\u001b[0;34m\u001b[0m\u001b[0;34m\u001b[0m\u001b[0m\n",
      "\u001b[0;31mImportError\u001b[0m: cannot import name 'MfNormal' from 'mfbocd.models' (/Users/gwg/Desktop/mfbocd/mfbocd/models/__init__.py)"
     ]
    }
   ],
   "source": [
    "from   matplotlib.colors import LogNorm\n",
    "import matplotlib.pyplot as plt\n",
    "import numpy as np\n",
    "from   numpy.random import RandomState\n",
    "\n",
    "from   mfbocd.inference import (bocd,\n",
    "                                mf_bocd)\n",
    "from   mfbocd.models import MfNormal\n",
    "\n",
    "color_lf = '#e6550d'\n",
    "color_hf = '#6baed6'\n",
    "\n",
    "\n",
    "def gen_data(rng, n_samples, mu0, var0, var_x, zeta_lf, zeta_hf, cp_prob):\n",
    "    curr_mu = None\n",
    "    params  = np.empty(n_samples)\n",
    "    xs      = np.empty((2, n_samples))\n",
    "    cps     = []\n",
    "\n",
    "    for t in range(0, n_samples):\n",
    "        if curr_mu is None or rng.uniform(0, 1) < cp_prob:\n",
    "            curr_mu = rng.normal(mu0, var0)\n",
    "            cps.append(t)\n",
    "\n",
    "        params[t] = curr_mu\n",
    "        xs[0, t]  = curr_mu + rng.normal(0, var_x/zeta_lf)\n",
    "        xs[1, t]  = curr_mu + rng.normal(0, var_x/zeta_hf)\n",
    "\n",
    "    return params, xs, cps\n",
    "\n",
    "\n",
    "def plot_data(ax, params, data, mean, var, colors, markers):\n",
    "    for mark in ['x', 'o']:\n",
    "        inds = markers == mark\n",
    "        xx   = np.where(markers == mark)\n",
    "        yy   = data[inds]\n",
    "        if mark == 'x':\n",
    "            ax.scatter(xx, yy, c=colors[inds], s=20, marker=mark)\n",
    "        else:\n",
    "            ax.scatter(xx, yy, s=20, marker=mark, \n",
    "                       edgecolors=colors[inds],\n",
    "                       facecolors='none')\n",
    "    xx = range(0, len(data))\n",
    "    ax.plot(xx, params, c='k', ls='--')\n",
    "    ax.plot(xx, mean, c='k', alpha=0.5)\n",
    "    _2std = 2 * np.sqrt(var)\n",
    "    ax.plot(xx, mean - _2std, color='k', ls='--', alpha=0.5)\n",
    "    ax.plot(xx, mean + _2std, color='k', ls='--', alpha=0.5)\n",
    "    ax.margins(0)\n",
    "    ax.set_ylabel(r'Data $\\mathbf{x}_t$', fontsize=16)\n",
    "        \n",
    "\n",
    "def plot_posterior(ax, R, cps):\n",
    "    T = len(R)-1\n",
    "    lnorm = LogNorm(vmin=0.0001, vmax=1)\n",
    "    ax.imshow(np.rot90(R), aspect='auto', cmap='gray_r', norm=lnorm)\n",
    "    ax.set_xlim([0, T])\n",
    "    # This just reverses the y-tick marks.\n",
    "    ticks = list(range(0, T, 50))\n",
    "    ax.set_yticks(ticks)\n",
    "    ax.set_yticklabels(ticks[::-1])\n",
    "    ax.set_ylabel(r'Run length $r_t$', fontsize=16)\n",
    "    \n",
    "\n",
    "def get_data_for_viz(inds):\n",
    "    D = np.empty(T)\n",
    "    M = []\n",
    "    C = []\n",
    "    for t in range(T):\n",
    "        if inds[t] == 0:\n",
    "            D[t] = xs[0, :][t]\n",
    "            M.append('x')\n",
    "            C.append(color_lf)\n",
    "        else:\n",
    "            assert(inds[t] == 1)\n",
    "            D[t] = xs[1, :][t]\n",
    "            M.append('o')\n",
    "            C.append(color_hf)\n",
    "    C = np.array(C)\n",
    "    M = np.array(M)\n",
    "    return D, C, M"
   ]
  },
  {
   "cell_type": "markdown",
   "metadata": {},
   "source": [
    "## Generate data"
   ]
  },
  {
   "cell_type": "code",
   "execution_count": null,
   "metadata": {},
   "outputs": [],
   "source": [
    "mean0   = 0\n",
    "var0    = 10\n",
    "var_x   = 1\n",
    "zeta_lf = 0.5\n",
    "zeta_hf = 1\n",
    "T       = 500\n",
    "cp_prob = 1/100\n",
    "rng     = RandomState(seed=None)\n",
    "\n",
    "params, xs, cps = gen_data(rng, T, mean0, var0, var_x, zeta_lf, zeta_hf, cp_prob)"
   ]
  },
  {
   "cell_type": "markdown",
   "metadata": {},
   "source": [
    "## Run MF-BOCD"
   ]
  },
  {
   "cell_type": "code",
   "execution_count": null,
   "metadata": {},
   "outputs": [],
   "source": [
    "zeta_hf = 1\n",
    "cost_lf = 1\n",
    "cost_hf = 2\n",
    "weights = np.array([1, 1.8])\n",
    "costs   = np.array([cost_lf, cost_hf])\n",
    "zetas   = np.array([zeta_lf, zeta_hf])\n",
    "\n",
    "def choose_fid(igs):\n",
    "    return np.argmax(weights * (igs / costs))\n",
    "\n",
    "model_mf = MfNormal(T, zetas, mean0, var0, var_x)\n",
    "(inds_mf,\n",
    " igs_mf,\n",
    " data_mf) = mf_bocd(xs, model_mf, cp_prob, choose_fid)\n",
    "pct_lowfid_mf = (inds_mf == 0).sum() / len(inds_mf)\n",
    "\n",
    "print(f'Num. low fidelity: {np.round(pct_lowfid_mf * 100, 2)}')"
   ]
  },
  {
   "cell_type": "markdown",
   "metadata": {},
   "source": [
    "## Visualize results"
   ]
  },
  {
   "cell_type": "code",
   "execution_count": null,
   "metadata": {},
   "outputs": [],
   "source": [
    "fig, (ax1, ax2) = plt.subplots(2, 1, figsize=(14, 7), dpi=150, sharex=True)\n",
    "\n",
    "data_mf, colors_mf, markers_mf = get_data_for_viz(inds_mf)\n",
    "plot_data(ax1, params, data_mf, model_mf._pmean, model_mf._pvar, colors_mf, markers_mf)\n",
    "plot_posterior(ax2, model_mf._R, cps)\n",
    "\n",
    "for ax in [ax1, ax2]:\n",
    "    for cp in cps:\n",
    "        ax.axvline(cp, c='r', ls='dotted')\n",
    "    ax.spines['right'].set_visible(False)\n",
    "    ax.spines['top'].set_visible(False)\n",
    "    ax.set_xlabel(r'Time $t$', fontsize=16)\n",
    "    [i.set_linewidth(1.6) for i in ax.spines.values()]\n",
    "        \n",
    "plt.tight_layout()"
   ]
  },
  {
   "cell_type": "code",
   "execution_count": null,
   "metadata": {},
   "outputs": [],
   "source": []
  }
 ],
 "metadata": {
  "kernelspec": {
   "display_name": "Python 3",
   "language": "python",
   "name": "python3"
  },
  "language_info": {
   "codemirror_mode": {
    "name": "ipython",
    "version": 3
   },
   "file_extension": ".py",
   "mimetype": "text/x-python",
   "name": "python",
   "nbconvert_exporter": "python",
   "pygments_lexer": "ipython3",
   "version": "3.7.10"
  }
 },
 "nbformat": 4,
 "nbformat_minor": 2
}
